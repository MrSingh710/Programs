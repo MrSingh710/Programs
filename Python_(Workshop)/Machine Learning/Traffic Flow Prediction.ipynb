{
 "cells": [
  {
   "cell_type": "code",
   "execution_count": 3,
   "id": "e5e96462-66e6-4289-90f9-0caa3aa677b6",
   "metadata": {},
   "outputs": [],
   "source": [
    "# Import necessary libraries\n",
    "import pandas as pd\n",
    "import numpy as np\n",
    "import matplotlib.pyplot as plt"
   ]
  },
  {
   "cell_type": "code",
   "execution_count": 6,
   "id": "bdbea115-e9aa-437a-be6b-b1ead9a671e4",
   "metadata": {},
   "outputs": [
    {
     "name": "stdout",
     "output_type": "stream",
     "text": [
      "<class 'pandas.core.frame.DataFrame'>\n",
      "RangeIndex: 48204 entries, 0 to 48203\n",
      "Data columns (total 9 columns):\n",
      " #   Column               Non-Null Count  Dtype  \n",
      "---  ------               --------------  -----  \n",
      " 0   holiday              61 non-null     object \n",
      " 1   temp                 48204 non-null  float64\n",
      " 2   rain_1h              48204 non-null  float64\n",
      " 3   snow_1h              48204 non-null  float64\n",
      " 4   clouds_all           48204 non-null  int64  \n",
      " 5   weather_main         48204 non-null  object \n",
      " 6   weather_description  48204 non-null  object \n",
      " 7   date_time            48204 non-null  object \n",
      " 8   traffic_volume       48204 non-null  int64  \n",
      "dtypes: float64(3), int64(2), object(4)\n",
      "memory usage: 3.3+ MB\n"
     ]
    },
    {
     "data": {
      "text/plain": [
       "(None,\n",
       "   holiday    temp  rain_1h  snow_1h  clouds_all weather_main  \\\n",
       " 0     NaN  288.28      0.0      0.0          40       Clouds   \n",
       " 1     NaN  289.36      0.0      0.0          75       Clouds   \n",
       " 2     NaN  289.58      0.0      0.0          90       Clouds   \n",
       " 3     NaN  290.13      0.0      0.0          90       Clouds   \n",
       " 4     NaN  291.14      0.0      0.0          75       Clouds   \n",
       " \n",
       "   weather_description            date_time  traffic_volume  \n",
       " 0    scattered clouds  2012-10-02 09:00:00            5545  \n",
       " 1       broken clouds  2012-10-02 10:00:00            4516  \n",
       " 2     overcast clouds  2012-10-02 11:00:00            4767  \n",
       " 3     overcast clouds  2012-10-02 12:00:00            5026  \n",
       " 4       broken clouds  2012-10-02 13:00:00            4918  )"
      ]
     },
     "execution_count": 6,
     "metadata": {},
     "output_type": "execute_result"
    }
   ],
   "source": [
    "# Step 1: Load the dataset\n",
    "# Make sure to replace 'path/to/your/dataset.csv' with the actual path\n",
    "traffic_data = pd.read_csv('./Metro_Interstate_Traffic_Volume.csv')\n",
    "\n",
    "# Display the first few rows and dataset info to understand its structure\n",
    "traffic_data_info = traffic_data.info()\n",
    "traffic_data_head = traffic_data.head()\n",
    "\n",
    "traffic_data_info, traffic_data_head\n"
   ]
  },
  {
   "cell_type": "code",
   "execution_count": 7,
   "id": "973c3ea6-b5fc-46a4-9024-5398fb0020ed",
   "metadata": {},
   "outputs": [
    {
     "data": {
      "text/plain": [
       "(     temp  rain_1h  snow_1h  clouds_all  hour  day_of_week  month  year  \\\n",
       " 0  288.28      0.0      0.0          40     9            1     10  2012   \n",
       " 1  289.36      0.0      0.0          75    10            1     10  2012   \n",
       " 2  289.58      0.0      0.0          90    11            1     10  2012   \n",
       " 3  290.13      0.0      0.0          90    12            1     10  2012   \n",
       " 4  291.14      0.0      0.0          75    13            1     10  2012   \n",
       " \n",
       "    holiday_Columbus Day  holiday_Independence Day  ...  weather_main_Clouds  \\\n",
       " 0                 False                     False  ...                 True   \n",
       " 1                 False                     False  ...                 True   \n",
       " 2                 False                     False  ...                 True   \n",
       " 3                 False                     False  ...                 True   \n",
       " 4                 False                     False  ...                 True   \n",
       " \n",
       "    weather_main_Drizzle  weather_main_Fog  weather_main_Haze  \\\n",
       " 0                 False             False              False   \n",
       " 1                 False             False              False   \n",
       " 2                 False             False              False   \n",
       " 3                 False             False              False   \n",
       " 4                 False             False              False   \n",
       " \n",
       "    weather_main_Mist  weather_main_Rain  weather_main_Smoke  \\\n",
       " 0              False              False               False   \n",
       " 1              False              False               False   \n",
       " 2              False              False               False   \n",
       " 3              False              False               False   \n",
       " 4              False              False               False   \n",
       " \n",
       "    weather_main_Snow  weather_main_Squall  weather_main_Thunderstorm  \n",
       " 0              False                False                      False  \n",
       " 1              False                False                      False  \n",
       " 2              False                False                      False  \n",
       " 3              False                False                      False  \n",
       " 4              False                False                      False  \n",
       " \n",
       " [5 rows x 28 columns],\n",
       " 0    5545\n",
       " 1    4516\n",
       " 2    4767\n",
       " 3    5026\n",
       " 4    4918\n",
       " Name: traffic_volume, dtype: int64)"
      ]
     },
     "execution_count": 7,
     "metadata": {},
     "output_type": "execute_result"
    }
   ],
   "source": [
    "# Convert 'date_time' to datetime format and extract useful time-based features\n",
    "traffic_data['date_time'] = pd.to_datetime(traffic_data['date_time'])\n",
    "traffic_data['hour'] = traffic_data['date_time'].dt.hour\n",
    "traffic_data['day_of_week'] = traffic_data['date_time'].dt.dayofweek\n",
    "traffic_data['month'] = traffic_data['date_time'].dt.month\n",
    "traffic_data['year'] = traffic_data['date_time'].dt.year\n",
    "\n",
    "# Convert categorical columns to numeric using one-hot encoding\n",
    "traffic_data_encoded = pd.get_dummies(traffic_data, columns=['holiday', 'weather_main'], drop_first=True)\n",
    "\n",
    "# Select features for the model (excluding original 'date_time', 'weather_description' which are not useful directly)\n",
    "features = traffic_data_encoded.drop(['date_time', 'traffic_volume', 'weather_description'], axis=1)\n",
    "target = traffic_data_encoded['traffic_volume']\n",
    "\n",
    "# Display the updated dataset structure\n",
    "features.head(), target.head()\n",
    "\n",
    "\n"
   ]
  },
  {
   "cell_type": "code",
   "execution_count": 2,
   "id": "a013366c-fd9a-44a4-9c2a-25fbe05fc1d4",
   "metadata": {},
   "outputs": [
    {
     "ename": "KeyError",
     "evalue": "\"['precipitation'] not in index\"",
     "output_type": "error",
     "traceback": [
      "\u001b[1;31m---------------------------------------------------------------------------\u001b[0m",
      "\u001b[1;31mKeyError\u001b[0m                                  Traceback (most recent call last)",
      "Cell \u001b[1;32mIn[2], line 18\u001b[0m\n\u001b[0;32m     16\u001b[0m data[\u001b[38;5;124m'\u001b[39m\u001b[38;5;124mdate_time\u001b[39m\u001b[38;5;124m'\u001b[39m] \u001b[38;5;241m=\u001b[39m pd\u001b[38;5;241m.\u001b[39mto_datetime(data[\u001b[38;5;124m'\u001b[39m\u001b[38;5;124mdate_time\u001b[39m\u001b[38;5;124m'\u001b[39m])\n\u001b[0;32m     17\u001b[0m data[\u001b[38;5;124m'\u001b[39m\u001b[38;5;124mhour\u001b[39m\u001b[38;5;124m'\u001b[39m] \u001b[38;5;241m=\u001b[39m data[\u001b[38;5;124m'\u001b[39m\u001b[38;5;124mdate_time\u001b[39m\u001b[38;5;124m'\u001b[39m]\u001b[38;5;241m.\u001b[39mdt\u001b[38;5;241m.\u001b[39mhour\n\u001b[1;32m---> 18\u001b[0m X \u001b[38;5;241m=\u001b[39m \u001b[43mdata\u001b[49m\u001b[43m[\u001b[49m\u001b[43m[\u001b[49m\u001b[38;5;124;43m'\u001b[39;49m\u001b[38;5;124;43mhour\u001b[39;49m\u001b[38;5;124;43m'\u001b[39;49m\u001b[43m,\u001b[49m\u001b[43m \u001b[49m\u001b[38;5;124;43m'\u001b[39;49m\u001b[38;5;124;43mtemp\u001b[39;49m\u001b[38;5;124;43m'\u001b[39;49m\u001b[43m,\u001b[49m\u001b[43m \u001b[49m\u001b[38;5;124;43m'\u001b[39;49m\u001b[38;5;124;43mprecipitation\u001b[39;49m\u001b[38;5;124;43m'\u001b[39;49m\u001b[43m]\u001b[49m\u001b[43m]\u001b[49m\n\u001b[0;32m     19\u001b[0m y \u001b[38;5;241m=\u001b[39m data[\u001b[38;5;124m'\u001b[39m\u001b[38;5;124mtraffic_volume\u001b[39m\u001b[38;5;124m'\u001b[39m]\n\u001b[0;32m     21\u001b[0m \u001b[38;5;66;03m# Normalize the features\u001b[39;00m\n",
      "File \u001b[1;32mG:\\Programs\\ML\\env\\Lib\\site-packages\\pandas\\core\\frame.py:4108\u001b[0m, in \u001b[0;36mDataFrame.__getitem__\u001b[1;34m(self, key)\u001b[0m\n\u001b[0;32m   4106\u001b[0m     \u001b[38;5;28;01mif\u001b[39;00m is_iterator(key):\n\u001b[0;32m   4107\u001b[0m         key \u001b[38;5;241m=\u001b[39m \u001b[38;5;28mlist\u001b[39m(key)\n\u001b[1;32m-> 4108\u001b[0m     indexer \u001b[38;5;241m=\u001b[39m \u001b[38;5;28;43mself\u001b[39;49m\u001b[38;5;241;43m.\u001b[39;49m\u001b[43mcolumns\u001b[49m\u001b[38;5;241;43m.\u001b[39;49m\u001b[43m_get_indexer_strict\u001b[49m\u001b[43m(\u001b[49m\u001b[43mkey\u001b[49m\u001b[43m,\u001b[49m\u001b[43m \u001b[49m\u001b[38;5;124;43m\"\u001b[39;49m\u001b[38;5;124;43mcolumns\u001b[39;49m\u001b[38;5;124;43m\"\u001b[39;49m\u001b[43m)\u001b[49m[\u001b[38;5;241m1\u001b[39m]\n\u001b[0;32m   4110\u001b[0m \u001b[38;5;66;03m# take() does not accept boolean indexers\u001b[39;00m\n\u001b[0;32m   4111\u001b[0m \u001b[38;5;28;01mif\u001b[39;00m \u001b[38;5;28mgetattr\u001b[39m(indexer, \u001b[38;5;124m\"\u001b[39m\u001b[38;5;124mdtype\u001b[39m\u001b[38;5;124m\"\u001b[39m, \u001b[38;5;28;01mNone\u001b[39;00m) \u001b[38;5;241m==\u001b[39m \u001b[38;5;28mbool\u001b[39m:\n",
      "File \u001b[1;32mG:\\Programs\\ML\\env\\Lib\\site-packages\\pandas\\core\\indexes\\base.py:6200\u001b[0m, in \u001b[0;36mIndex._get_indexer_strict\u001b[1;34m(self, key, axis_name)\u001b[0m\n\u001b[0;32m   6197\u001b[0m \u001b[38;5;28;01melse\u001b[39;00m:\n\u001b[0;32m   6198\u001b[0m     keyarr, indexer, new_indexer \u001b[38;5;241m=\u001b[39m \u001b[38;5;28mself\u001b[39m\u001b[38;5;241m.\u001b[39m_reindex_non_unique(keyarr)\n\u001b[1;32m-> 6200\u001b[0m \u001b[38;5;28;43mself\u001b[39;49m\u001b[38;5;241;43m.\u001b[39;49m\u001b[43m_raise_if_missing\u001b[49m\u001b[43m(\u001b[49m\u001b[43mkeyarr\u001b[49m\u001b[43m,\u001b[49m\u001b[43m \u001b[49m\u001b[43mindexer\u001b[49m\u001b[43m,\u001b[49m\u001b[43m \u001b[49m\u001b[43maxis_name\u001b[49m\u001b[43m)\u001b[49m\n\u001b[0;32m   6202\u001b[0m keyarr \u001b[38;5;241m=\u001b[39m \u001b[38;5;28mself\u001b[39m\u001b[38;5;241m.\u001b[39mtake(indexer)\n\u001b[0;32m   6203\u001b[0m \u001b[38;5;28;01mif\u001b[39;00m \u001b[38;5;28misinstance\u001b[39m(key, Index):\n\u001b[0;32m   6204\u001b[0m     \u001b[38;5;66;03m# GH 42790 - Preserve name from an Index\u001b[39;00m\n",
      "File \u001b[1;32mG:\\Programs\\ML\\env\\Lib\\site-packages\\pandas\\core\\indexes\\base.py:6252\u001b[0m, in \u001b[0;36mIndex._raise_if_missing\u001b[1;34m(self, key, indexer, axis_name)\u001b[0m\n\u001b[0;32m   6249\u001b[0m     \u001b[38;5;28;01mraise\u001b[39;00m \u001b[38;5;167;01mKeyError\u001b[39;00m(\u001b[38;5;124mf\u001b[39m\u001b[38;5;124m\"\u001b[39m\u001b[38;5;124mNone of [\u001b[39m\u001b[38;5;132;01m{\u001b[39;00mkey\u001b[38;5;132;01m}\u001b[39;00m\u001b[38;5;124m] are in the [\u001b[39m\u001b[38;5;132;01m{\u001b[39;00maxis_name\u001b[38;5;132;01m}\u001b[39;00m\u001b[38;5;124m]\u001b[39m\u001b[38;5;124m\"\u001b[39m)\n\u001b[0;32m   6251\u001b[0m not_found \u001b[38;5;241m=\u001b[39m \u001b[38;5;28mlist\u001b[39m(ensure_index(key)[missing_mask\u001b[38;5;241m.\u001b[39mnonzero()[\u001b[38;5;241m0\u001b[39m]]\u001b[38;5;241m.\u001b[39munique())\n\u001b[1;32m-> 6252\u001b[0m \u001b[38;5;28;01mraise\u001b[39;00m \u001b[38;5;167;01mKeyError\u001b[39;00m(\u001b[38;5;124mf\u001b[39m\u001b[38;5;124m\"\u001b[39m\u001b[38;5;132;01m{\u001b[39;00mnot_found\u001b[38;5;132;01m}\u001b[39;00m\u001b[38;5;124m not in index\u001b[39m\u001b[38;5;124m\"\u001b[39m)\n",
      "\u001b[1;31mKeyError\u001b[0m: \"['precipitation'] not in index\""
     ]
    }
   ],
   "source": [
    "# Step 3: Add bias term\n",
    "X_with_bias = np.c_[np.ones(X_norm.shape[0]), X_norm]\n",
    "\n",
    "# Step 4: Manual Gradient Descent Implementation\n",
    "def compute_cost(X, y, w):\n",
    "    m = len(y)\n",
    "    predictions = X.dot(w)\n",
    "    cost = (1/(2*m)) * np.sum((predictions - y) ** 2)\n",
    "    return cost\n",
    "\n",
    "def gradient_descent(X, y, w, alpha, num_iters):\n",
    "    m = len(y)\n",
    "    cost_history = np.zeros(num_iters)\n",
    "    \n",
    "    for i in range(num_iters):\n",
    "        predictions = X.dot(w)\n",
    "        gradients = (1/m) * X.T.dot(predictions - y)\n",
    "        w = w - alpha * gradients\n",
    "        cost_history[i] = compute_cost(X, y, w)\n",
    "        \n",
    "    return w, cost_history\n",
    "\n",
    "# Step 5: Initialize weights and hyperparameters\n",
    "w_initial = np.random.randn(X_with_bias.shape[1])\n",
    "alpha = 0.01  # learning rate\n",
    "num_iters = 1000  # number of iterations\n",
    "\n",
    "# Step 6: Run gradient descent\n",
    "w_final, cost_history = gradient_descent(X_with_bias, y, w_initial, alpha, num_iters)\n",
    "\n",
    "# Step 7: Plot cost function over iterations\n",
    "plt.plot(cost_history)\n",
    "plt.xlabel(\"Iterations\")\n",
    "plt.ylabel(\"Cost (MSE)\")\n",
    "plt.title(\"Cost Function Convergence\")\n",
    "plt.show()\n",
    "\n",
    "# Step 8: Final cost\n",
    "final_cost = compute_cost(X_with_bias, y, w_final)\n",
    "print(f'Final Cost (MSE): {final_cost}')\n"
   ]
  },
  {
   "cell_type": "code",
   "execution_count": null,
   "id": "3d386515-a567-4d68-be5d-8b3ac07f2baa",
   "metadata": {},
   "outputs": [],
   "source": []
  },
  {
   "cell_type": "code",
   "execution_count": null,
   "id": "624e1c81-3e99-4ed2-a410-8592d11e01dc",
   "metadata": {},
   "outputs": [],
   "source": []
  }
 ],
 "metadata": {
  "kernelspec": {
   "display_name": "Python 3 (ipykernel)",
   "language": "python",
   "name": "python3"
  },
  "language_info": {
   "codemirror_mode": {
    "name": "ipython",
    "version": 3
   },
   "file_extension": ".py",
   "mimetype": "text/x-python",
   "name": "python",
   "nbconvert_exporter": "python",
   "pygments_lexer": "ipython3",
   "version": "3.12.5"
  }
 },
 "nbformat": 4,
 "nbformat_minor": 5
}
